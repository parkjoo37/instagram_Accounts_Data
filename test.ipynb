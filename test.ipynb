{
 "cells": [
  {
   "cell_type": "code",
   "execution_count": 2,
   "metadata": {},
   "outputs": [],
   "source": [
    "def follow_Crawling():\n",
    "    account_id = []\n",
    "\n",
    "    driver = webdriver.Chrome('/Users/markmac/Downloads/chromedriver')\n",
    "    driver.get('https://www.instagram.com')\n",
    "    time.sleep(1)\n",
    "\n",
    "    driver.find_element_by_css_selector('p.izU2O > a').click()\n",
    "    time.sleep(1)\n",
    "\n",
    "    driver.find_element_by_name('username').send_keys('hashtagcrawler@gmail.com')\n",
    "    driver.find_element_by_name('password').send_keys('dkdlel12')\n",
    "\n",
    "    driver.find_element_by_xpath(\"//button[@class = '_0mzm- sqdOP  L3NKy       ']\").click()\n",
    "    time.sleep(1)\n",
    "\n",
    "    #driver.find_element_by_xpath(\"//button[@class = 'aOOlW  bIiDR  ']\").click() # 알림 설정 버튼 클릭\n",
    "    driver.find_element_by_xpath(\"//span[@class = 'glyphsSpriteUser__outline__24__grey_9 u-__7']\").click()\n",
    "    time.sleep(2)\n",
    "\n",
    "    driver.find_elements_by_css_selector('a.-nal3 ')[1].click()\n",
    "    time.sleep(1)\n",
    "\n",
    "    scroll = driver.find_element_by_class_name('isgrP')\n",
    "    driver.execute_script(\"arguments[0].scrollTop = arguments[0].scrollHeight\", scroll)\n",
    "    time.sleep(1)\n",
    "\n",
    "    jsScript = \"\"\"\n",
    "    function move_up(element) {\n",
    "        element.scrollTop = element.scrollTop - 500;\n",
    "    }\n",
    "\n",
    "    function move_down(element) {\n",
    "        console.log('Position before: ' + element.scrollTop);\n",
    "        element.scrollTop = element.scrollTop + 1000;\n",
    "        console.log('Position after: ' + element.scrollTop);\n",
    "    }\n",
    "\n",
    "    move_up(arguments[0]);\n",
    "    \"\"\"\n",
    "\n",
    "    driver.execute_script(jsScript, scroll)\n",
    "    time.sleep(1)\n",
    "\n",
    "    try:\n",
    "        for i in range(10):\n",
    "            driver.execute_script(\"arguments[0].scrollTop = arguments[0].scrollHeight\", scroll)\n",
    "            time.sleep(2)\n",
    "    except:\n",
    "        print('error')\n",
    "\n",
    "    time.sleep(1)\n",
    "\n",
    "    html = driver.page_source\n",
    "    dom = BeautifulSoup(html, 'html.parser')\n",
    "\n",
    "    account_id_list = driver.find_elements_by_xpath(\"//a[@class = 'FPmhX notranslate _0imsa ']\")\n",
    "\n",
    "    account_id = [j.text for j in account_id_list]\n",
    "\n",
    "    driver.close()\n",
    "    \n",
    "    f = open('account_Id.csv', 'w', encoding = 'utf-8', newline = '')\n",
    "    wr = csv.writer(f)\n",
    "    \n",
    "    wr.writerow(account_id)\n",
    "        \n",
    "    f.close()"
   ]
  },
  {
   "cell_type": "code",
   "execution_count": 3,
   "metadata": {},
   "outputs": [],
   "source": [
    "follow_Crawling()"
   ]
  },
  {
   "cell_type": "code",
   "execution_count": 4,
   "metadata": {},
   "outputs": [],
   "source": [
    "account_Id = []"
   ]
  },
  {
   "cell_type": "code",
   "execution_count": 5,
   "metadata": {},
   "outputs": [],
   "source": [
    "f = open('account_Id.csv', 'r')\n",
    "\n",
    "lines = csv.reader(f)\n",
    "\n",
    "for line in lines:\n",
    "    account_Id += line\n",
    "    \n",
    "f.close()"
   ]
  },
  {
   "cell_type": "code",
   "execution_count": 6,
   "metadata": {},
   "outputs": [
    {
     "data": {
      "text/plain": [
       "57"
      ]
     },
     "execution_count": 6,
     "metadata": {},
     "output_type": "execute_result"
    }
   ],
   "source": [
    "len(account_Id)"
   ]
  },
  {
   "cell_type": "code",
   "execution_count": 179,
   "metadata": {},
   "outputs": [],
   "source": [
    "driver = webdriver.Chrome('/Users/markmac/Downloads/chromedriver')"
   ]
  },
  {
   "cell_type": "code",
   "execution_count": 180,
   "metadata": {},
   "outputs": [],
   "source": [
    "driver.get('https://www.instagram.com/hiolnl')"
   ]
  },
  {
   "cell_type": "code",
   "execution_count": 4,
   "metadata": {},
   "outputs": [],
   "source": [
    "html = driver.page_source"
   ]
  },
  {
   "cell_type": "code",
   "execution_count": 5,
   "metadata": {},
   "outputs": [],
   "source": [
    "dom = BeautifulSoup(html, 'html.parser')"
   ]
  },
  {
   "cell_type": "code",
   "execution_count": 6,
   "metadata": {},
   "outputs": [],
   "source": [
    "account_info = {}"
   ]
  },
  {
   "cell_type": "code",
   "execution_count": 7,
   "metadata": {},
   "outputs": [],
   "source": [
    "account_info['계정ID'] = dom.select('h1._7UhW9.fKFbl.yUEEX.KV-D4.fDxYl')[0].text"
   ]
  },
  {
   "cell_type": "code",
   "execution_count": 8,
   "metadata": {},
   "outputs": [],
   "source": [
    "account_info['게시물수'] = dom.select('span.g47SY')[0].text"
   ]
  },
  {
   "cell_type": "code",
   "execution_count": 9,
   "metadata": {},
   "outputs": [],
   "source": [
    "account_info['팔로워수'] = dom.select('span.g47SY')[1]['title']"
   ]
  },
  {
   "cell_type": "code",
   "execution_count": 10,
   "metadata": {},
   "outputs": [
    {
     "data": {
      "text/plain": [
       "{'계정ID': 'hiolnl', '게시물수': '33', '팔로워수': '68,527'}"
      ]
     },
     "execution_count": 10,
     "metadata": {},
     "output_type": "execute_result"
    }
   ],
   "source": [
    "account_info"
   ]
  },
  {
   "cell_type": "code",
   "execution_count": 11,
   "metadata": {},
   "outputs": [],
   "source": [
    "driver.find_element_by_class_name('_9AhH0').click()"
   ]
  },
  {
   "cell_type": "code",
   "execution_count": 12,
   "metadata": {},
   "outputs": [],
   "source": [
    "comment = 0"
   ]
  },
  {
   "cell_type": "code",
   "execution_count": 13,
   "metadata": {},
   "outputs": [],
   "source": [
    "good = 0"
   ]
  },
  {
   "cell_type": "code",
   "execution_count": 181,
   "metadata": {},
   "outputs": [],
   "source": [
    "html = driver.page_source\n",
    "dom = BeautifulSoup(html, 'html.parser')"
   ]
  },
  {
   "cell_type": "code",
   "execution_count": 184,
   "metadata": {},
   "outputs": [
    {
     "data": {
      "text/plain": [
       "[<a href=\"/explore/tags/stnews/\">#STNews</a>,\n",
       " <a class=\"notranslate\" href=\"/hiolnl/\">@hiolnl</a>,\n",
       " <a class=\"notranslate\" href=\"/kidcozyboy/\">@kidcozyboy</a>,\n",
       " <a class=\"notranslate\" href=\"/secpaul/\">@secpaul</a>,\n",
       " <a class=\"notranslate\" href=\"/lym.en/\">@lym.en</a>,\n",
       " <a class=\"notranslate\" href=\"/secpaul/\">@secpaul</a>,\n",
       " <a class=\"notranslate\" href=\"/aubeoeat/\">@aubeoeat</a>,\n",
       " <a href=\"/explore/tags/olnl/\">#OLNL</a>,\n",
       " <a href=\"/explore/tags/kidmilli/\">#KidMilli</a>,\n",
       " <a href=\"/explore/tags/lymen/\">#Lymen</a>,\n",
       " <a href=\"/explore/tags/secpaul/\">#secpaul</a>,\n",
       " <a href=\"/explore/tags/bluetooth/\">#BLUETOOTH</a>,\n",
       " <a href=\"/explore/tags/single/\">#single</a>,\n",
       " <a href=\"/explore/tags/stoneship/\">#STONESHIP</a>,\n",
       " <a href=\"/explore/tags/오르내림/\">#오르내림</a>,\n",
       " <a href=\"/explore/tags/키드밀리/\">#키드밀리</a>,\n",
       " <a href=\"/explore/tags/리믄/\">#리믄</a>,\n",
       " <a href=\"/explore/tags/블루투스/\">#블루투스</a>,\n",
       " <a href=\"/explore/tags/스톤쉽/\">#스톤쉽</a>]"
      ]
     },
     "execution_count": 184,
     "metadata": {},
     "output_type": "execute_result"
    }
   ],
   "source": [
    "dom.select('div.C4VMK > span > a')"
   ]
  },
  {
   "cell_type": "code",
   "execution_count": 42,
   "metadata": {},
   "outputs": [
    {
     "data": {
      "text/plain": [
       "False"
      ]
     },
     "execution_count": 42,
     "metadata": {},
     "output_type": "execute_result"
    }
   ],
   "source": [
    "dom.select('div.D1AKJ > a')[0].text == '이전'"
   ]
  },
  {
   "cell_type": "code",
   "execution_count": 26,
   "metadata": {},
   "outputs": [
    {
     "data": {
      "text/plain": [
       "'2019년 1월 28일'"
      ]
     },
     "execution_count": 26,
     "metadata": {},
     "output_type": "execute_result"
    }
   ],
   "source": [
    "dom.select('time._1o9PC.Nzb55')[0]['title']"
   ]
  },
  {
   "cell_type": "code",
   "execution_count": 35,
   "metadata": {},
   "outputs": [
    {
     "data": {
      "text/plain": [
       "[]"
      ]
     },
     "execution_count": 35,
     "metadata": {},
     "output_type": "execute_result"
    }
   ],
   "source": [
    "dom.select('div.Igw0E.IwRSH.eGOV_.ybXk5.vwCYk')"
   ]
  },
  {
   "cell_type": "code",
   "execution_count": 187,
   "metadata": {},
   "outputs": [],
   "source": [
    "from selenium import webdriver\n",
    "from bs4 import BeautifulSoup\n",
    "from datetime import date\n",
    "from collections import Counter\n",
    "import pandas as pd\n",
    "import csv\n",
    "import time\n",
    "\n",
    "driver = webdriver.Chrome('/Users/markmac/Downloads/chromedriver')\n",
    "driver.get('https://www.instagram.com/hiolnl')\n",
    "\n",
    "time.sleep(1)\n",
    "html = driver.page_source\n",
    "dom = BeautifulSoup(html, 'html.parser')\n",
    "\n",
    "num = 1\n",
    "account_Id = []\n",
    "post_Count = []\n",
    "follower_Count = []\n",
    "avg_Comment = []\n",
    "avg_Good = []\n",
    "comment_Count = []\n",
    "good_Count = []\n",
    "last_Activity_Date = []\n",
    "first_Activity_Date = []\n",
    "active_Period = []\n",
    "hashtags = []\n",
    "words = []\n",
    "hashtags_data = []\n",
    "hashtags_Name = []\n",
    "hashtags_Count = []\n",
    "comment = 0\n",
    "good = 0\n",
    "\n",
    "account_Id.append(dom.select('h1._7UhW9.fKFbl.yUEEX.KV-D4.fDxYl')[0].text)\n",
    "post_Count.append(int(dom.select('span.g47SY')[0].text))\n",
    "follower_Count.append(int(dom.select('span.g47SY')[1]['title'].replace(',', '')))\n",
    "\n",
    "#account_info['계정ID'] = dom.select('h1._7UhW9.fKFbl.yUEEX.KV-D4.fDxYl')[0].text\n",
    "#account_info['게시물수'] = dom.select('span.g47SY')[0].text\n",
    "#account_info['팔로워수'] = dom.select('span.g47SY')[1]['title']\n",
    "\n",
    "driver.find_element_by_class_name('_9AhH0').click()\n",
    "\n",
    "while True:\n",
    "    try:\n",
    "        time.sleep(1)\n",
    "        html = driver.page_source\n",
    "        dom = BeautifulSoup(html, 'html.parser')\n",
    "        \n",
    "        if dom.select('li.lnrre') == []:\n",
    "            if dom.select('div.Igw0E.IwRSH.eGOV_.ybXk5.vwCYk') == [] and comment == 0 and good == 0:\n",
    "                #account_info['마지막활동날짜'] = dom.select('time._1o9PC.Nzb55')[0]['title']\n",
    "                last_Activity_Date.append(dom.select('time._1o9PC.Nzb55')[0]['datetime'][:10])\n",
    "                \n",
    "                last_Year = int(dom.select('time._1o9PC.Nzb55')[0]['datetime'][:10].split('-')[0])\n",
    "                last_Month = int(dom.select('time._1o9PC.Nzb55')[0]['datetime'][:10].split('-')[1])\n",
    "                last_Day = int(dom.select('time._1o9PC.Nzb55')[0]['datetime'][:10].split('-')[2])\n",
    "                \n",
    "                comment = len(dom.select('li.gElp9'))\n",
    "                \n",
    "                hashtags += dom.select('div.C4VMK > span > a')\n",
    "                \n",
    "                driver.find_element_by_class_name('vcOH2').click()\n",
    "                \n",
    "                time.sleep(1)\n",
    "                html = driver.page_source\n",
    "                dom = BeautifulSoup(html, 'html.parser')\n",
    "                \n",
    "                good = int(dom.select('div.vJRqr > span')[0].text.replace(',', ''))\n",
    "                \n",
    "                driver.find_element_by_class_name('QhbhU').click()\n",
    "                time.sleep(1)\n",
    "                \n",
    "                if len(dom.select('div.D1AKJ > a')) == 1 and dom.select('div.D1AKJ > a')[0].text == '이전':\n",
    "                    time.sleep(1)\n",
    "                    html = driver.page_source\n",
    "                    dom = BeautifulSoup(html, 'html.parser')\n",
    "                    \n",
    "                    #account_info['처음활동날짜'] = dom.select('time._1o9PC.Nzb55')[0]['title']\n",
    "                    first_Activity_Date.append(dom.select('time._1o9PC.Nzb55')[0]['datetime'][:10])\n",
    "                    \n",
    "                    first_Year = int(dom.select('time._1o9PC.Nzb55')[0]['datetime'][:10].split('-')[0])\n",
    "                    first_Month = int(dom.select('time._1o9PC.Nzb55')[0]['datetime'][:10].split('-')[1])\n",
    "                    first_Day = int(dom.select('time._1o9PC.Nzb55')[0]['datetime'][:10].split('-')[2])\n",
    "                    \n",
    "                    last = date(last_Year, last_Month, last_Day)\n",
    "                    first = date(first_Year, first_Month, first_Day)\n",
    "                    \n",
    "                    period = last - first\n",
    "                    active_Period.append(period.days)\n",
    "                    \n",
    "                    comment_Count.append(comment)\n",
    "                    good_Count.append(good)\n",
    "                    avg_Comment.append(round(comment / post_Count[0]))\n",
    "                    avg_Good.append(round(good / post_Count[0]))\n",
    "                    \n",
    "                    words = [j.text for j in hashtags]\n",
    "            \n",
    "                    hashtags_data = [x for x in words if x[0] == '#']\n",
    "                \n",
    "                    for i, j in Counter(hashtags_data).items:\n",
    "                        hashtags_Name.append(i)\n",
    "                        hashtags_Count.append(j)\n",
    "                        \n",
    "                    total_data = {'계정ID':account_Id, '총게시물수':post_Count, '팔로워수':follower_Count, '평균댓글':avg_Comment, '평균좋아요':avg_Good, '총댓글수':comment_Count, '총좋아요수':good_Count, '최근게시물날짜':last_Activity_Date, '처음게시물날짜':first_Activity_Date, '활성기간':active_Period, '해시태그':hashtags_Name, '빈도수':hashtags_Count}\n",
    "                    \n",
    "                    df = pd.DataFrame(total_data)\n",
    "                    df.to_csv('/Users/markmac/Downloads/instagram_accounts_data.csv')\n",
    "                    \n",
    "                    driver.close()\n",
    "                    break\n",
    "                    \n",
    "                else:\n",
    "                    driver.find_element_by_xpath(\"//a[@class = 'HBoOv coreSpriteRightPaginationArrow']\").click()\n",
    "                    time.sleep(1)\n",
    "                    \n",
    "            elif dom.select('div.Igw0E.IwRSH.eGOV_.ybXk5.vwCYk') == [] and good == 0 and comment != 0:\n",
    "                comment += len(dom.select('li.gElp9'))\n",
    "                \n",
    "                hashtags += dom.select('div.C4VMK > span > a')\n",
    "                \n",
    "                driver.find_element_by_class_name('vcOH2').click()\n",
    "                \n",
    "                time.sleep(1)\n",
    "                html = driver.page_source\n",
    "                dom = BeautifulSoup(html, 'html.parser')\n",
    "                \n",
    "                good = int(dom.select('div.vJRqr > span')[0].text.replace(',', ''))\n",
    "                \n",
    "                driver.find_element_by_class_name('QhbhU').click()\n",
    "                time.sleep(1)\n",
    "                \n",
    "                if len(dom.select('div.D1AKJ > a')) == 1 and dom.select('div.D1AKJ > a')[0].text == '이전':\n",
    "                    time.sleep(1)\n",
    "                    html = driver.page_source\n",
    "                    dom = BeautifulSoup(html, 'html.parser')\n",
    "                    \n",
    "                    #account_info['처음활동날짜'] = dom.select('time._1o9PC.Nzb55')[0]['title']\n",
    "                    first_Activity_Date.append(dom.select('time._1o9PC.Nzb55')[0]['datetime'][:10])\n",
    "                    \n",
    "                    first_Year = int(dom.select('time._1o9PC.Nzb55')[0]['datetime'][:10].split('-')[0])\n",
    "                    first_Month = int(dom.select('time._1o9PC.Nzb55')[0]['datetime'][:10].split('-')[1])\n",
    "                    first_Day = int(dom.select('time._1o9PC.Nzb55')[0]['datetime'][:10].split('-')[2])\n",
    "                    \n",
    "                    last = date(last_Year, last_Month, last_Day)\n",
    "                    first = date(first_Year, first_Month, first_Day)\n",
    "                    \n",
    "                    period = last - first\n",
    "                    active_Period.append(period.days)\n",
    "                    \n",
    "                    comment_Count.append(comment)\n",
    "                    good_Count.append(good)\n",
    "                    avg_Comment.append(round(comment / post_Count[0]))\n",
    "                    avg_Good.append(round(good / post_Count[0]))\n",
    "                    \n",
    "                    words = [j.text for j in hashtags]\n",
    "            \n",
    "                    hashtags_data = [x for x in words if x[0] == '#']\n",
    "                \n",
    "                    for i, j in Counter(hashtags_data).items:\n",
    "                        hashtags_Name.append(i)\n",
    "                        hashtags_Count.append(j)\n",
    "                        \n",
    "                    total_data = {'계정ID':account_Id, '총게시물수':post_Count, '팔로워수':follower_Count, '평균댓글':avg_Comment, '평균좋아요':avg_Good, '총댓글수':comment_Count, '총좋아요수':good_Count, '최근게시물날짜':last_Activity_Date, '처음게시물날짜':first_Activity_Date, '활성기간':active_Period, '해시태그':hashtags_Name, '빈도수':hashtags_Count}\n",
    "                    \n",
    "                    df = pd.DataFrame(total_data)\n",
    "                    df.to_csv('/Users/markmac/Downloads/instagram_accounts_data.csv')\n",
    "                    \n",
    "                    driver.close()\n",
    "                    break\n",
    "                    \n",
    "                else:\n",
    "                    driver.find_element_by_xpath(\"//a[@class = 'HBoOv coreSpriteRightPaginationArrow']\").click()\n",
    "                    time.sleep(1)\n",
    "                    \n",
    "            elif dom.select('div.Igw0E.IwRSH.eGOV_.ybXk5.vwCYk') == [] and comment == 0 and good != 0:\n",
    "                comment = len(dom.select('li.gElp9'))\n",
    "                \n",
    "                hashtags += dom.select('div.C4VMK > span > a')\n",
    "                \n",
    "                driver.find_element_by_class_name('vcOH2').click()\n",
    "                \n",
    "                time.sleep(1)\n",
    "                html = driver.page_source\n",
    "                dom = BeautifulSoup(html, 'html.parser')\n",
    "                \n",
    "                good += int(dom.select('div.vJRqr > span')[0].text.replace(',', ''))\n",
    "                \n",
    "                driver.find_element_by_class_name('QhbhU').click()\n",
    "                time.sleep(1)\n",
    "                \n",
    "                if len(dom.select('div.D1AKJ > a')) == 1 and dom.select('div.D1AKJ > a')[0].text == '이전':\n",
    "                    time.sleep(1)\n",
    "                    html = driver.page_source\n",
    "                    dom = BeautifulSoup(html, 'html.parser')\n",
    "                    \n",
    "                    #account_info['처음활동날짜'] = dom.select('time._1o9PC.Nzb55')[0]['title']\n",
    "                    first_Activity_Date.append(dom.select('time._1o9PC.Nzb55')[0]['datetime'][:10])\n",
    "                    \n",
    "                    first_Year = int(dom.select('time._1o9PC.Nzb55')[0]['datetime'][:10].split('-')[0])\n",
    "                    first_Month = int(dom.select('time._1o9PC.Nzb55')[0]['datetime'][:10].split('-')[1])\n",
    "                    first_Day = int(dom.select('time._1o9PC.Nzb55')[0]['datetime'][:10].split('-')[2])\n",
    "                    \n",
    "                    last = date(last_Year, last_Month, last_Day)\n",
    "                    first = date(first_Year, first_Month, first_Day)\n",
    "                    \n",
    "                    period = last - first\n",
    "                    active_Period.append(period.days)\n",
    "                    \n",
    "                    comment_Count.append(comment)\n",
    "                    good_Count.append(good)\n",
    "                    avg_Comment.append(round(comment / post_Count[0]))\n",
    "                    avg_Good.append(round(good / post_Count[0]))\n",
    "                    \n",
    "                    words = [j.text for j in hashtags]\n",
    "            \n",
    "                    hashtags_data = [x for x in words if x[0] == '#']\n",
    "                \n",
    "                    for i, j in Counter(hashtags_data).items:\n",
    "                        hashtags_Name.append(i)\n",
    "                        hashtags_Count.append(j)\n",
    "                        \n",
    "                    total_data = {'계정ID':account_Id, '총게시물수':post_Count, '팔로워수':follower_Count, '평균댓글':avg_Comment, '평균좋아요':avg_Good, '총댓글수':comment_Count, '총좋아요수':good_Count, '최근게시물날짜':last_Activity_Date, '처음게시물날짜':first_Activity_Date, '활성기간':active_Period, '해시태그':hashtags_Name, '빈도수':hashtags_Count}\n",
    "                    \n",
    "                    df = pd.DataFrame(total_data)\n",
    "                    df.to_csv('/Users/markmac/Downloads/instagram_accounts_data.csv')\n",
    "                    \n",
    "                    driver.close()\n",
    "                    break\n",
    "                    \n",
    "                else:\n",
    "                    driver.find_element_by_xpath(\"//a[@class = 'HBoOv coreSpriteRightPaginationArrow']\").click()\n",
    "                    time.sleep(1)\n",
    "                    \n",
    "            elif dom.select('div.Igw0E.IwRSH.eGOV_.ybXk5.vwCYk') == [] and comment != 0 and good != 0:\n",
    "                comment += len(dom.select('li.gElp9'))\n",
    "                \n",
    "                hashtags += dom.select('div.C4VMK > span > a')\n",
    "                \n",
    "                driver.find_element_by_class_name('vcOH2').click()\n",
    "                \n",
    "                time.sleep(1)\n",
    "                html = driver.page_source\n",
    "                dom = BeautifulSoup(html, 'html.parser')\n",
    "                \n",
    "                good += int(dom.select('div.vJRqr > span')[0].text.replace(',', ''))\n",
    "                \n",
    "                driver.find_element_by_class_name('QhbhU').click()\n",
    "                time.sleep(1)\n",
    "                \n",
    "                if len(dom.select('div.D1AKJ > a')) == 1 and dom.select('div.D1AKJ > a')[0].text == '이전':\n",
    "                    time.sleep(1)\n",
    "                    html = driver.page_source\n",
    "                    dom = BeautifulSoup(html, 'html.parser')\n",
    "                    \n",
    "                    #account_info['처음활동날짜'] = dom.select('time._1o9PC.Nzb55')[0]['title']\n",
    "                    first_Activity_Date.append(dom.select('time._1o9PC.Nzb55')[0]['datetime'][:10])\n",
    "                    \n",
    "                    first_Year = int(dom.select('time._1o9PC.Nzb55')[0]['datetime'][:10].split('-')[0])\n",
    "                    first_Month = int(dom.select('time._1o9PC.Nzb55')[0]['datetime'][:10].split('-')[1])\n",
    "                    first_Day = int(dom.select('time._1o9PC.Nzb55')[0]['datetime'][:10].split('-')[2])\n",
    "                    \n",
    "                    last = date(last_Year, last_Month, last_Day)\n",
    "                    first = date(first_Year, first_Month, first_Day)\n",
    "                    \n",
    "                    period = last - first\n",
    "                    active_Period.append(period.days)\n",
    "                    \n",
    "                    comment_Count.append(comment)\n",
    "                    good_Count.append(good)\n",
    "                    avg_Comment.append(round(comment / post_Count[0]))\n",
    "                    avg_Good.append(round(good / post_Count[0]))\n",
    "                    \n",
    "                    words = [j.text for j in hashtags]\n",
    "            \n",
    "                    hashtags_data = [x for x in words if x[0] == '#']\n",
    "                \n",
    "                    for i, j in Counter(hashtags_data).items:\n",
    "                        hashtags_Name.append(i)\n",
    "                        hashtags_Count.append(j)\n",
    "                        \n",
    "                    total_data = {'계정ID':account_Id, '총게시물수':post_Count, '팔로워수':follower_Count, '평균댓글':avg_Comment, '평균좋아요':avg_Good, '총댓글수':comment_Count, '총좋아요수':good_Count, '최근게시물날짜':last_Activity_Date, '처음게시물날짜':first_Activity_Date, '활성기간':active_Period, '해시태그':hashtags_Name, '빈도수':hashtags_Count}\n",
    "                    \n",
    "                    df = pd.DataFrame(total_data)\n",
    "                    df.to_csv('/Users/markmac/Downloads/instagram_accounts_data.csv')\n",
    "                    \n",
    "                    driver.close()\n",
    "                    break\n",
    "                    \n",
    "                else:\n",
    "                    driver.find_element_by_xpath(\"//a[@class = 'HBoOv coreSpriteRightPaginationArrow']\").click()\n",
    "                    time.sleep(1)\n",
    "                    \n",
    "            elif dom.select('div.Igw0E.IwRSH.eGOV_.ybXk5.vwCYk') != [] and comment == 0 and good == 0:\n",
    "                #account_info['최근활동날짜'] = dom.select('time._1o9PC.Nzb55')[0]['title']\n",
    "                last_Activity_Date.append(dom.select('time._1o9PC.Nzb55')[0]['datetime'][:10])\n",
    "                \n",
    "                last_Year = int(dom.select('time._1o9PC.Nzb55')[0]['datetime'][:10].split('-')[0])\n",
    "                last_Month = int(dom.select('time._1o9PC.Nzb55')[0]['datetime'][:10].split('-')[1])\n",
    "                last_Day = int(dom.select('time._1o9PC.Nzb55')[0]['datetime'][:10].split('-')[2])\n",
    "                \n",
    "                comment = len(dom.select('li.gElp9'))\n",
    "                \n",
    "                hashtags += dom.select('div.C4VMK > span > a')\n",
    "                \n",
    "                good = int(dom.select('button._0mzm-.sqdOP.yWX7d._8A5w5 > span')[0].text.replace(',', ''))\n",
    "                \n",
    "                if len(dom.select('div.D1AKJ > a')) == 1 and dom.select('div.D1AKJ > a')[0].text == '이전':    \n",
    "                    #account_info['처음활동날짜'] = dom.select('time._1o9PC.Nzb55')[0]['title']\n",
    "                    first_Activity_Date.append(dom.select('time._1o9PC.Nzb55')[0]['datetime'][:10])\n",
    "                    \n",
    "                    first_Year = int(dom.select('time._1o9PC.Nzb55')[0]['datetime'][:10].split('-')[0])\n",
    "                    first_Month = int(dom.select('time._1o9PC.Nzb55')[0]['datetime'][:10].split('-')[1])\n",
    "                    first_Day = int(dom.select('time._1o9PC.Nzb55')[0]['datetime'][:10].split('-')[2])\n",
    "                    \n",
    "                    last = date(last_Year, last_Month, last_Day)\n",
    "                    first = date(first_Year, first_Month, first_Day)\n",
    "                    \n",
    "                    period = last - first\n",
    "                    active_Period.append(period.days)\n",
    "                    \n",
    "                    comment_Count.append(comment)\n",
    "                    good_Count.append(good)\n",
    "                    avg_Comment.append(round(comment / post_Count[0]))\n",
    "                    avg_Good.append(round(good / post_Count[0]))\n",
    "                    \n",
    "                    words = [j.text for j in hashtags]\n",
    "            \n",
    "                    hashtags_data = [x for x in words if x[0] == '#']\n",
    "                \n",
    "                    for i, j in Counter(hashtags_data).items:\n",
    "                        hashtags_Name.append(i)\n",
    "                        hashtags_Count.append(j)\n",
    "                        \n",
    "                    total_data = {'계정ID':account_Id, '총게시물수':post_Count, '팔로워수':follower_Count, '평균댓글':avg_Comment, '평균좋아요':avg_Good, '총댓글수':comment_Count, '총좋아요수':good_Count, '최근게시물날짜':last_Activity_Date, '처음게시물날짜':first_Activity_Date, '활성기간':active_Period, '해시태그':hashtags_Name, '빈도수':hashtags_Count}\n",
    "                    \n",
    "                    df = pd.DataFrame(total_data)\n",
    "                    df.to_csv('/Users/markmac/Downloads/instagram_accounts_data.csv')\n",
    "                    \n",
    "                    driver.close()\n",
    "                    break\n",
    "                    \n",
    "                else:\n",
    "                    driver.find_element_by_xpath(\"//a[@class = 'HBoOv coreSpriteRightPaginationArrow']\").click()\n",
    "                    time.sleep(1)\n",
    "                    \n",
    "            elif dom.select('div.Igw0E.IwRSH.eGOV_.ybXk5.vwCYk') != [] and comment == 0 and good != 0:\n",
    "                comment = len(dom.select('li.gElp9'))\n",
    "                \n",
    "                hashtags += dom.select('div.C4VMK > span > a')\n",
    "                \n",
    "                good += int(dom.select('button._0mzm-.sqdOP.yWX7d._8A5w5 > span')[0].text.replace(',', ''))\n",
    "                \n",
    "                if len(dom.select('div.D1AKJ > a')) == 1 and dom.select('div.D1AKJ > a')[0].text == '이전':    \n",
    "                    #account_info['처음활동날짜'] = dom.select('time._1o9PC.Nzb55')[0]['title']\n",
    "                    first_Activity_Date.append(dom.select('time._1o9PC.Nzb55')[0]['datetime'][:10])\n",
    "                    \n",
    "                    first_Year = int(dom.select('time._1o9PC.Nzb55')[0]['datetime'][:10].split('-')[0])\n",
    "                    first_Month = int(dom.select('time._1o9PC.Nzb55')[0]['datetime'][:10].split('-')[1])\n",
    "                    first_Day = int(dom.select('time._1o9PC.Nzb55')[0]['datetime'][:10].split('-')[2])\n",
    "                    \n",
    "                    last = date(last_Year, last_Month, last_Day)\n",
    "                    first = date(first_Year, first_Month, first_Day)\n",
    "                    \n",
    "                    period = last - first\n",
    "                    active_Period.append(period.days)\n",
    "                    \n",
    "                    comment_Count.append(comment)\n",
    "                    good_Count.append(good)\n",
    "                    avg_Comment.append(round(comment / post_Count[0]))\n",
    "                    avg_Good.append(round(good / post_Count[0]))\n",
    "                    \n",
    "                    words = [j.text for j in hashtags]\n",
    "            \n",
    "                    hashtags_data = [x for x in words if x[0] == '#']\n",
    "                \n",
    "                    for i, j in Counter(hashtags_data).items:\n",
    "                        hashtags_Name.append(i)\n",
    "                        hashtags_Count.append(j)\n",
    "                        \n",
    "                    total_data = {'계정ID':account_Id, '총게시물수':post_Count, '팔로워수':follower_Count, '평균댓글':avg_Comment, '평균좋아요':avg_Good, '총댓글수':comment_Count, '총좋아요수':good_Count, '최근게시물날짜':last_Activity_Date, '처음게시물날짜':first_Activity_Date, '활성기간':active_Period, '해시태그':hashtags_Name, '빈도수':hashtags_Count}\n",
    "                    \n",
    "                    df = pd.DataFrame(total_data)\n",
    "                    df.to_csv('/Users/markmac/Downloads/instagram_accounts_data.csv')\n",
    "                    \n",
    "                    driver.close()\n",
    "                    break\n",
    "                    \n",
    "                else:\n",
    "                    driver.find_element_by_xpath(\"//a[@class = 'HBoOv coreSpriteRightPaginationArrow']\").click()\n",
    "                    time.sleep(1)\n",
    "                    \n",
    "            elif dom.select('div.Igw0E.IwRSH.eGOV_.ybXk5.vwCYk') != [] and good == 0 and comment != 0:\n",
    "                comment += len(dom.select('li.gElp9'))\n",
    "                \n",
    "                hashtags += dom.select('div.C4VMK > span > a')\n",
    "                \n",
    "                good = int(dom.select('button._0mzm-.sqdOP.yWX7d._8A5w5 > span')[0].text.replace(',', ''))\n",
    "                \n",
    "                if len(dom.select('div.D1AKJ > a')) == 1 and dom.select('div.D1AKJ > a')[0].text == '이전':    \n",
    "                    #account_info['처음활동날짜'] = dom.select('time._1o9PC.Nzb55')[0]['title']\n",
    "                    first_Activity_Date.append(dom.select('time._1o9PC.Nzb55')[0]['datetime'][:10])\n",
    "                    \n",
    "                    first_Year = int(dom.select('time._1o9PC.Nzb55')[0]['datetime'][:10].split('-')[0])\n",
    "                    first_Month = int(dom.select('time._1o9PC.Nzb55')[0]['datetime'][:10].split('-')[1])\n",
    "                    first_Day = int(dom.select('time._1o9PC.Nzb55')[0]['datetime'][:10].split('-')[2])\n",
    "                    \n",
    "                    last = date(last_Year, last_Month, last_Day)\n",
    "                    first = date(first_Year, first_Month, first_Day)\n",
    "                    \n",
    "                    period = last - first\n",
    "                    active_Period.append(period.days)\n",
    "                    \n",
    "                    comment_Count.append(comment)\n",
    "                    good_Count.append(good)\n",
    "                    avg_Comment.append(round(comment / post_Count[0]))\n",
    "                    avg_Good.append(round(good / post_Count[0]))\n",
    "                    \n",
    "                    words = [j.text for j in hashtags]\n",
    "            \n",
    "                    hashtags_data = [x for x in words if x[0] == '#']\n",
    "                \n",
    "                    for i, j in Counter(hashtags_data).items:\n",
    "                        hashtags_Name.append(i)\n",
    "                        hashtags_Count.append(j)\n",
    "                        \n",
    "                    total_data = {'계정ID':account_Id, '총게시물수':post_Count, '팔로워수':follower_Count, '평균댓글':avg_Comment, '평균좋아요':avg_Good, '총댓글수':comment_Count, '총좋아요수':good_Count, '최근게시물날짜':last_Activity_Date, '처음게시물날짜':first_Activity_Date, '활성기간':active_Period, '해시태그':hashtags_Name, '빈도수':hashtags_Count}\n",
    "                    \n",
    "                    df = pd.DataFrame(total_data)\n",
    "                    df.to_csv('/Users/markmac/Downloads/instagram_accounts_data.csv')\n",
    "                    \n",
    "                    driver.close()\n",
    "                    break\n",
    "                    \n",
    "                else:\n",
    "                    driver.find_element_by_xpath(\"//a[@class = 'HBoOv coreSpriteRightPaginationArrow']\").click()\n",
    "                    time.sleep(1)\n",
    "                    \n",
    "            else:\n",
    "                comment += len(dom.select('li.gElp9'))\n",
    "                \n",
    "                hashtags += dom.select('div.C4VMK > span > a')\n",
    "                \n",
    "                good += int(dom.select('button._0mzm-.sqdOP.yWX7d._8A5w5 > span')[0].text.replace(',', ''))\n",
    "                \n",
    "                if len(dom.select('div.D1AKJ > a')) == 1 and dom.select('div.D1AKJ > a')[0].text == '이전':    \n",
    "                    #account_info['처음활동날짜'] = dom.select('time._1o9PC.Nzb55')[0]['title']\n",
    "                    first_Activity_Date.append(dom.select('time._1o9PC.Nzb55')[0]['datetime'][:10])\n",
    "                    \n",
    "                    first_Year = int(dom.select('time._1o9PC.Nzb55')[0]['datetime'][:10].split('-')[0])\n",
    "                    first_Month = int(dom.select('time._1o9PC.Nzb55')[0]['datetime'][:10].split('-')[1])\n",
    "                    first_Day = int(dom.select('time._1o9PC.Nzb55')[0]['datetime'][:10].split('-')[2])\n",
    "                    \n",
    "                    last = date(last_Year, last_Month, last_Day)\n",
    "                    first = date(first_Year, first_Month, first_Day)\n",
    "                    \n",
    "                    period = last - first\n",
    "                    active_Period.append(period.days)\n",
    "                    \n",
    "                    comment_Count.append(comment)\n",
    "                    good_Count.append(good)\n",
    "                    avg_Comment.append(round(comment / post_Count[0]))\n",
    "                    avg_Good.append(round(good / post_Count[0]))\n",
    "                    \n",
    "                    words = [j.text for j in hashtags]\n",
    "            \n",
    "                    hashtags_data = [x for x in words if x[0] == '#']\n",
    "                \n",
    "                    for i, j in Counter(hashtags_data).items:\n",
    "                        hashtags_Name.append(i)\n",
    "                        hashtags_Count.append(j)\n",
    "                        \n",
    "                    total_data = {'계정ID':account_Id, '총게시물수':post_Count, '팔로워수':follower_Count, '평균댓글':avg_Comment, '평균좋아요':avg_Good, '총댓글수':comment_Count, '총좋아요수':good_Count, '최근게시물날짜':last_Activity_Date, '처음게시물날짜':first_Activity_Date, '활성기간':active_Period, '해시태그':hashtags_Name, '빈도수':hashtags_Count}\n",
    "                    \n",
    "                    df = pd.DataFrame(total_data)\n",
    "                    df.to_csv('/Users/markmac/Downloads/instagram_accounts_data.csv')\n",
    "                    \n",
    "                    driver.close()\n",
    "                    break\n",
    "                    \n",
    "                else:\n",
    "                    driver.find_element_by_xpath(\"//a[@class = 'HBoOv coreSpriteRightPaginationArrow']\").click()\n",
    "                    time.sleep(1)\n",
    "                    \n",
    "        else:\n",
    "            driver.find_element_by_xpath(\"//button[@class = 'Z4IfV _0mzm- sqdOP yWX7d        ']\").click()\n",
    "            time.sleep(1)\n",
    "    except:\n",
    "        break"
   ]
  },
  {
   "cell_type": "code",
   "execution_count": 149,
   "metadata": {},
   "outputs": [
    {
     "data": {
      "text/plain": [
       "['hiolnl']"
      ]
     },
     "execution_count": 149,
     "metadata": {},
     "output_type": "execute_result"
    }
   ],
   "source": [
    "account_Id"
   ]
  },
  {
   "cell_type": "code",
   "execution_count": 150,
   "metadata": {},
   "outputs": [
    {
     "data": {
      "text/plain": [
       "[33]"
      ]
     },
     "execution_count": 150,
     "metadata": {},
     "output_type": "execute_result"
    }
   ],
   "source": [
    "post_Count"
   ]
  },
  {
   "cell_type": "code",
   "execution_count": 151,
   "metadata": {},
   "outputs": [
    {
     "data": {
      "text/plain": [
       "[68529]"
      ]
     },
     "execution_count": 151,
     "metadata": {},
     "output_type": "execute_result"
    }
   ],
   "source": [
    "follower_Count"
   ]
  },
  {
   "cell_type": "code",
   "execution_count": 152,
   "metadata": {},
   "outputs": [
    {
     "data": {
      "text/plain": [
       "[92]"
      ]
     },
     "execution_count": 152,
     "metadata": {},
     "output_type": "execute_result"
    }
   ],
   "source": [
    "avg_Comment"
   ]
  },
  {
   "cell_type": "code",
   "execution_count": 153,
   "metadata": {},
   "outputs": [
    {
     "data": {
      "text/plain": [
       "[4370]"
      ]
     },
     "execution_count": 153,
     "metadata": {},
     "output_type": "execute_result"
    }
   ],
   "source": [
    "avg_Good"
   ]
  },
  {
   "cell_type": "code",
   "execution_count": 154,
   "metadata": {},
   "outputs": [
    {
     "data": {
      "text/plain": [
       "[3038]"
      ]
     },
     "execution_count": 154,
     "metadata": {},
     "output_type": "execute_result"
    }
   ],
   "source": [
    "comment_Count"
   ]
  },
  {
   "cell_type": "code",
   "execution_count": 155,
   "metadata": {},
   "outputs": [
    {
     "data": {
      "text/plain": [
       "[144223]"
      ]
     },
     "execution_count": 155,
     "metadata": {},
     "output_type": "execute_result"
    }
   ],
   "source": [
    "good_Count"
   ]
  },
  {
   "cell_type": "code",
   "execution_count": 156,
   "metadata": {},
   "outputs": [
    {
     "data": {
      "text/plain": [
       "['2019-01-28']"
      ]
     },
     "execution_count": 156,
     "metadata": {},
     "output_type": "execute_result"
    }
   ],
   "source": [
    "last_Activity_Date"
   ]
  },
  {
   "cell_type": "code",
   "execution_count": 157,
   "metadata": {},
   "outputs": [
    {
     "data": {
      "text/plain": [
       "['2015-12-27']"
      ]
     },
     "execution_count": 157,
     "metadata": {},
     "output_type": "execute_result"
    }
   ],
   "source": [
    "first_Activity_Date"
   ]
  },
  {
   "cell_type": "code",
   "execution_count": 158,
   "metadata": {},
   "outputs": [
    {
     "data": {
      "text/plain": [
       "[1128]"
      ]
     },
     "execution_count": 158,
     "metadata": {},
     "output_type": "execute_result"
    }
   ],
   "source": [
    "active_Period"
   ]
  },
  {
   "cell_type": "code",
   "execution_count": 159,
   "metadata": {},
   "outputs": [
    {
     "data": {
      "text/plain": [
       "3038"
      ]
     },
     "execution_count": 159,
     "metadata": {},
     "output_type": "execute_result"
    }
   ],
   "source": [
    "comment"
   ]
  },
  {
   "cell_type": "code",
   "execution_count": 160,
   "metadata": {},
   "outputs": [
    {
     "data": {
      "text/plain": [
       "144223"
      ]
     },
     "execution_count": 160,
     "metadata": {},
     "output_type": "execute_result"
    }
   ],
   "source": [
    "good"
   ]
  },
  {
   "cell_type": "code",
   "execution_count": 161,
   "metadata": {},
   "outputs": [],
   "source": [
    "total_data = [account_Id, post_Count, follower_Count, avg_Comment, avg_Good, comment_Count, good_Count, last_Activity_Date, first_Activity_Date, active_Period]"
   ]
  },
  {
   "cell_type": "code",
   "execution_count": 167,
   "metadata": {},
   "outputs": [],
   "source": [
    "total_data = {'계정ID':account_Id, '총게시물수':post_Count, '팔로워수':follower_Count, '평균댓글':avg_Comment, '평균좋아요':avg_Good, '총댓글수':comment_Count, '총좋아요수':good_Count, '최근게시물날짜':last_Activity_Date, '처음게시물날짜':first_Activity_Date, '활성기간':active_Period}"
   ]
  },
  {
   "cell_type": "code",
   "execution_count": 168,
   "metadata": {},
   "outputs": [],
   "source": [
    "import pandas as pd"
   ]
  },
  {
   "cell_type": "code",
   "execution_count": 177,
   "metadata": {},
   "outputs": [],
   "source": [
    "df = pd.DataFrame(total_data)"
   ]
  },
  {
   "cell_type": "code",
   "execution_count": 178,
   "metadata": {},
   "outputs": [],
   "source": [
    "df.to_csv('/Users/markmac/Downloads/test_new.csv')"
   ]
  },
  {
   "cell_type": "code",
   "execution_count": null,
   "metadata": {},
   "outputs": [],
   "source": [
    "account_Id = []\n",
    "post_Count = []\n",
    "follower_Count = []\n",
    "avg_Comment = []\n",
    "avg_Good = []\n",
    "comment_Count = []\n",
    "good_Count = []\n",
    "last_Activity_Date = []\n",
    "first_Activity_Date = []\n",
    "active_Period = []\n",
    "comment = 0\n",
    "good = 0"
   ]
  },
  {
   "cell_type": "code",
   "execution_count": 73,
   "metadata": {},
   "outputs": [],
   "source": [
    "html = driver.page_source"
   ]
  },
  {
   "cell_type": "code",
   "execution_count": 74,
   "metadata": {},
   "outputs": [],
   "source": [
    "dom = BeautifulSoup(html, 'html.parser')"
   ]
  },
  {
   "cell_type": "code",
   "execution_count": 109,
   "metadata": {},
   "outputs": [
    {
     "data": {
      "text/plain": [
       "2016"
      ]
     },
     "execution_count": 109,
     "metadata": {},
     "output_type": "execute_result"
    }
   ],
   "source": [
    "int(dom.select('time._1o9PC.Nzb55')[0]['datetime'][:10].split('-')[0])"
   ]
  },
  {
   "cell_type": "code",
   "execution_count": 82,
   "metadata": {},
   "outputs": [
    {
     "data": {
      "text/plain": [
       "'2016-01-04'"
      ]
     },
     "execution_count": 82,
     "metadata": {},
     "output_type": "execute_result"
    }
   ],
   "source": [
    "aa"
   ]
  },
  {
   "cell_type": "code",
   "execution_count": 84,
   "metadata": {},
   "outputs": [],
   "source": [
    "year = int(aa.split('-')[0])"
   ]
  },
  {
   "cell_type": "code",
   "execution_count": 85,
   "metadata": {},
   "outputs": [],
   "source": [
    "month = int(aa.split('-')[1])"
   ]
  },
  {
   "cell_type": "code",
   "execution_count": 86,
   "metadata": {},
   "outputs": [],
   "source": [
    "day = int(aa.split('-')[2])"
   ]
  },
  {
   "cell_type": "code",
   "execution_count": 95,
   "metadata": {},
   "outputs": [],
   "source": [
    "d0 = date(year, month, day)\n",
    "d1 = date(2017, 2, 12)"
   ]
  },
  {
   "cell_type": "code",
   "execution_count": 105,
   "metadata": {},
   "outputs": [],
   "source": [
    "delta = d1 - d0"
   ]
  },
  {
   "cell_type": "code",
   "execution_count": 106,
   "metadata": {},
   "outputs": [],
   "source": [
    "a = delta.days"
   ]
  },
  {
   "cell_type": "code",
   "execution_count": 107,
   "metadata": {},
   "outputs": [
    {
     "data": {
      "text/plain": [
       "405"
      ]
     },
     "execution_count": 107,
     "metadata": {},
     "output_type": "execute_result"
    }
   ],
   "source": [
    "a"
   ]
  },
  {
   "cell_type": "code",
   "execution_count": 56,
   "metadata": {},
   "outputs": [],
   "source": [
    "last_Year = int(last_Activity_Date[0].split(' ')[0][:4])"
   ]
  },
  {
   "cell_type": "code",
   "execution_count": 58,
   "metadata": {},
   "outputs": [
    {
     "data": {
      "text/plain": [
       "2019"
      ]
     },
     "execution_count": 58,
     "metadata": {},
     "output_type": "execute_result"
    }
   ],
   "source": [
    "last_Year"
   ]
  },
  {
   "cell_type": "code",
   "execution_count": 67,
   "metadata": {},
   "outputs": [],
   "source": [
    "last_Month = int(last_Activity_Date[0].split(' ')[1][:1])"
   ]
  },
  {
   "cell_type": "code",
   "execution_count": 68,
   "metadata": {},
   "outputs": [
    {
     "data": {
      "text/plain": [
       "1"
      ]
     },
     "execution_count": 68,
     "metadata": {},
     "output_type": "execute_result"
    }
   ],
   "source": [
    "last_Month"
   ]
  },
  {
   "cell_type": "code",
   "execution_count": 71,
   "metadata": {},
   "outputs": [],
   "source": [
    "last_Day = (last_Activity_Date[0].split(' ')[2][:2])"
   ]
  },
  {
   "cell_type": "code",
   "execution_count": 72,
   "metadata": {},
   "outputs": [
    {
     "data": {
      "text/plain": [
       "'28'"
      ]
     },
     "execution_count": 72,
     "metadata": {},
     "output_type": "execute_result"
    }
   ],
   "source": [
    "last_Day"
   ]
  },
  {
   "cell_type": "code",
   "execution_count": 53,
   "metadata": {},
   "outputs": [],
   "source": [
    "from datetime import date"
   ]
  },
  {
   "cell_type": "code",
   "execution_count": 54,
   "metadata": {},
   "outputs": [
    {
     "ename": "TypeError",
     "evalue": "an integer is required (got type str)",
     "output_type": "error",
     "traceback": [
      "\u001b[0;31m---------------------------------------------------------------------------\u001b[0m",
      "\u001b[0;31mTypeError\u001b[0m                                 Traceback (most recent call last)",
      "\u001b[0;32m<ipython-input-54-cf1c1eff0efb>\u001b[0m in \u001b[0;36m<module>\u001b[0;34m\u001b[0m\n\u001b[0;32m----> 1\u001b[0;31m \u001b[0md0\u001b[0m \u001b[0;34m=\u001b[0m \u001b[0mdate\u001b[0m\u001b[0;34m(\u001b[0m\u001b[0mfirst_Activity_Date\u001b[0m\u001b[0;34m[\u001b[0m\u001b[0;36m0\u001b[0m\u001b[0;34m]\u001b[0m\u001b[0;34m)\u001b[0m\u001b[0;34m\u001b[0m\u001b[0;34m\u001b[0m\u001b[0m\n\u001b[0m\u001b[1;32m      2\u001b[0m \u001b[0md1\u001b[0m \u001b[0;34m=\u001b[0m \u001b[0mdate\u001b[0m\u001b[0;34m(\u001b[0m\u001b[0mlast_Activity_Date\u001b[0m\u001b[0;34m[\u001b[0m\u001b[0;36m0\u001b[0m\u001b[0;34m]\u001b[0m\u001b[0;34m)\u001b[0m\u001b[0;34m\u001b[0m\u001b[0;34m\u001b[0m\u001b[0m\n",
      "\u001b[0;31mTypeError\u001b[0m: an integer is required (got type str)"
     ]
    }
   ],
   "source": [
    "d0 = date(first_Activity_Date[0])\n",
    "d1 = date(last_Activity_Date[0])"
   ]
  },
  {
   "cell_type": "code",
   "execution_count": 50,
   "metadata": {},
   "outputs": [
    {
     "data": {
      "text/plain": [
       "['2019년 1월 28일']"
      ]
     },
     "execution_count": 50,
     "metadata": {},
     "output_type": "execute_result"
    }
   ],
   "source": [
    "last_Activity_Date"
   ]
  },
  {
   "cell_type": "code",
   "execution_count": 38,
   "metadata": {},
   "outputs": [
    {
     "data": {
      "text/plain": [
       "['2015년 12월 27일']"
      ]
     },
     "execution_count": 38,
     "metadata": {},
     "output_type": "execute_result"
    }
   ],
   "source": [
    "first_Activity_Date"
   ]
  },
  {
   "cell_type": "code",
   "execution_count": 39,
   "metadata": {},
   "outputs": [
    {
     "data": {
      "text/plain": [
       "3038"
      ]
     },
     "execution_count": 39,
     "metadata": {},
     "output_type": "execute_result"
    }
   ],
   "source": [
    "comment"
   ]
  },
  {
   "cell_type": "code",
   "execution_count": 40,
   "metadata": {},
   "outputs": [
    {
     "data": {
      "text/plain": [
       "144222"
      ]
     },
     "execution_count": 40,
     "metadata": {},
     "output_type": "execute_result"
    }
   ],
   "source": [
    "good"
   ]
  },
  {
   "cell_type": "code",
   "execution_count": null,
   "metadata": {},
   "outputs": [],
   "source": [
    "avg_Good = []\n",
    "comment_Count = []\n",
    "good_Count = []\n",
    "last_Activity_Date = []\n",
    "first_Activity_Date = []\n",
    "active_Period = []\n",
    "comment = 0\n",
    "good = 0"
   ]
  },
  {
   "cell_type": "code",
   "execution_count": 20,
   "metadata": {},
   "outputs": [
    {
     "data": {
      "text/plain": [
       "{'계정ID': 'sd',\n",
       " '게시물수': '33',\n",
       " '팔로워수': '68,527',\n",
       " '최근활동날짜': '2019년 1월 28일',\n",
       " '처음활동날짜': '2015년 12월 27일'}"
      ]
     },
     "execution_count": 20,
     "metadata": {},
     "output_type": "execute_result"
    }
   ],
   "source": [
    "account_info"
   ]
  },
  {
   "cell_type": "code",
   "execution_count": 18,
   "metadata": {},
   "outputs": [],
   "source": [
    "account_info['계정ID'] = 'sd'"
   ]
  },
  {
   "cell_type": "code",
   "execution_count": 28,
   "metadata": {},
   "outputs": [],
   "source": [
    "ac = [account_info]"
   ]
  },
  {
   "cell_type": "code",
   "execution_count": 29,
   "metadata": {},
   "outputs": [
    {
     "data": {
      "text/plain": [
       "[{'계정ID': 'sd',\n",
       "  '게시물수': '33',\n",
       "  '팔로워수': '68,527',\n",
       "  '최근활동날짜': '2019년 1월 28일',\n",
       "  '처음활동날짜': '2015년 12월 27일'}]"
      ]
     },
     "execution_count": 29,
     "metadata": {},
     "output_type": "execute_result"
    }
   ],
   "source": [
    "ac"
   ]
  },
  {
   "cell_type": "code",
   "execution_count": 25,
   "metadata": {},
   "outputs": [
    {
     "ename": "KeyError",
     "evalue": "0",
     "output_type": "error",
     "traceback": [
      "\u001b[0;31m---------------------------------------------------------------------------\u001b[0m",
      "\u001b[0;31mKeyError\u001b[0m                                  Traceback (most recent call last)",
      "\u001b[0;32m<ipython-input-25-8a158aceeb5e>\u001b[0m in \u001b[0;36m<module>\u001b[0;34m\u001b[0m\n\u001b[0;32m----> 1\u001b[0;31m \u001b[0mac\u001b[0m\u001b[0;34m[\u001b[0m\u001b[0;36m0\u001b[0m\u001b[0;34m]\u001b[0m\u001b[0;34m[\u001b[0m\u001b[0;34m'계정ID'\u001b[0m\u001b[0;34m]\u001b[0m\u001b[0;34m\u001b[0m\u001b[0;34m\u001b[0m\u001b[0m\n\u001b[0m",
      "\u001b[0;31mKeyError\u001b[0m: 0"
     ]
    }
   ],
   "source": [
    "ac[0]['계정ID']"
   ]
  },
  {
   "cell_type": "code",
   "execution_count": 19,
   "metadata": {},
   "outputs": [
    {
     "data": {
      "text/plain": [
       "{'계정ID': 'sd',\n",
       " '게시물수': '33',\n",
       " '팔로워수': '68,527',\n",
       " '최근활동날짜': '2019년 1월 28일',\n",
       " '처음활동날짜': '2015년 12월 27일'}"
      ]
     },
     "execution_count": 19,
     "metadata": {},
     "output_type": "execute_result"
    }
   ],
   "source": [
    "account_info"
   ]
  },
  {
   "cell_type": "code",
   "execution_count": 32,
   "metadata": {},
   "outputs": [],
   "source": [
    "driver.find_element_by_xpath(\"//button[@class = 'Z4IfV _0mzm- sqdOP yWX7d        ']\").click()"
   ]
  },
  {
   "cell_type": "code",
   "execution_count": 33,
   "metadata": {},
   "outputs": [],
   "source": [
    "html = driver.page_source"
   ]
  },
  {
   "cell_type": "code",
   "execution_count": 34,
   "metadata": {},
   "outputs": [],
   "source": [
    "dom = BeautifulSoup(html, 'html.parser')"
   ]
  },
  {
   "cell_type": "code",
   "execution_count": 35,
   "metadata": {},
   "outputs": [],
   "source": [
    "comment = 0"
   ]
  },
  {
   "cell_type": "code",
   "execution_count": 36,
   "metadata": {},
   "outputs": [],
   "source": [
    "comment = int(dom.select('button.Z4IfV._0mzm-.sqdOP.yWX7d > span')[0].text)"
   ]
  },
  {
   "cell_type": "code",
   "execution_count": 37,
   "metadata": {},
   "outputs": [
    {
     "data": {
      "text/plain": [
       "179"
      ]
     },
     "execution_count": 37,
     "metadata": {},
     "output_type": "execute_result"
    }
   ],
   "source": [
    "comment"
   ]
  },
  {
   "cell_type": "code",
   "execution_count": 38,
   "metadata": {},
   "outputs": [],
   "source": [
    "good = 0"
   ]
  },
  {
   "cell_type": "code",
   "execution_count": 39,
   "metadata": {},
   "outputs": [],
   "source": [
    "good = int(dom.select('button._0mzm-.sqdOP.yWX7d._8A5w5 > span')[0].text.replace(',', ''))"
   ]
  },
  {
   "cell_type": "code",
   "execution_count": 40,
   "metadata": {},
   "outputs": [
    {
     "data": {
      "text/plain": [
       "6159"
      ]
     },
     "execution_count": 40,
     "metadata": {},
     "output_type": "execute_result"
    }
   ],
   "source": [
    "good"
   ]
  },
  {
   "cell_type": "code",
   "execution_count": 41,
   "metadata": {},
   "outputs": [],
   "source": [
    "account_info['최근게시물날짜'] = dom.select('time._1o9PC.Nzb55')[0]['title']"
   ]
  },
  {
   "cell_type": "code",
   "execution_count": 42,
   "metadata": {},
   "outputs": [],
   "source": [
    "driver.find_element_by_xpath(\"//a[@class = 'HBoOv coreSpriteRightPaginationArrow']\").click()"
   ]
  },
  {
   "cell_type": "code",
   "execution_count": 43,
   "metadata": {},
   "outputs": [
    {
     "data": {
      "text/plain": [
       "{'계정ID': 'jayflowsik',\n",
       " '게시물수': '756',\n",
       " '팔로워수': '143,732',\n",
       " '최근게시물날짜': '2019년 2월 11일'}"
      ]
     },
     "execution_count": 43,
     "metadata": {},
     "output_type": "execute_result"
    }
   ],
   "source": [
    "account_info"
   ]
  },
  {
   "cell_type": "markdown",
   "metadata": {},
   "source": [
    "============================================================================="
   ]
  },
  {
   "cell_type": "code",
   "execution_count": 40,
   "metadata": {},
   "outputs": [],
   "source": [
    "driver.find_element_by_xpath(\"//button[@class = 'Z4IfV _0mzm- sqdOP yWX7d        ']\").click()"
   ]
  },
  {
   "cell_type": "code",
   "execution_count": 41,
   "metadata": {},
   "outputs": [],
   "source": [
    "html = driver.page_source"
   ]
  },
  {
   "cell_type": "code",
   "execution_count": 42,
   "metadata": {},
   "outputs": [],
   "source": [
    "dom = BeautifulSoup(html, 'html.parser')"
   ]
  },
  {
   "cell_type": "code",
   "execution_count": 47,
   "metadata": {},
   "outputs": [],
   "source": [
    "comment += int(dom.select('button.Z4IfV._0mzm-.sqdOP.yWX7d > span')[0].text)"
   ]
  },
  {
   "cell_type": "code",
   "execution_count": 48,
   "metadata": {},
   "outputs": [
    {
     "data": {
      "text/plain": [
       "130"
      ]
     },
     "execution_count": 48,
     "metadata": {},
     "output_type": "execute_result"
    }
   ],
   "source": [
    "comment"
   ]
  },
  {
   "cell_type": "code",
   "execution_count": 49,
   "metadata": {},
   "outputs": [],
   "source": [
    "driver.find_element_by_class_name('vcOH2').click()"
   ]
  },
  {
   "cell_type": "code",
   "execution_count": 50,
   "metadata": {},
   "outputs": [],
   "source": [
    "html = driver.page_source"
   ]
  },
  {
   "cell_type": "code",
   "execution_count": 51,
   "metadata": {},
   "outputs": [],
   "source": [
    "dom = BeautifulSoup(html, 'html.parser')"
   ]
  },
  {
   "cell_type": "code",
   "execution_count": 56,
   "metadata": {},
   "outputs": [],
   "source": [
    "good += int(dom.select('div.vJRqr > span')[0].text.replace(',', ''))"
   ]
  },
  {
   "cell_type": "code",
   "execution_count": 57,
   "metadata": {},
   "outputs": [
    {
     "data": {
      "text/plain": [
       "5750"
      ]
     },
     "execution_count": 57,
     "metadata": {},
     "output_type": "execute_result"
    }
   ],
   "source": [
    "good"
   ]
  },
  {
   "cell_type": "code",
   "execution_count": 58,
   "metadata": {},
   "outputs": [],
   "source": [
    "driver.find_element_by_class_name('QhbhU').click()"
   ]
  },
  {
   "cell_type": "code",
   "execution_count": 59,
   "metadata": {},
   "outputs": [],
   "source": [
    "driver.find_element_by_xpath(\"//a[@class = 'HBoOv coreSpriteRightPaginationArrow']\").click()"
   ]
  },
  {
   "cell_type": "markdown",
   "metadata": {},
   "source": [
    "===================================================================================="
   ]
  },
  {
   "cell_type": "code",
   "execution_count": 60,
   "metadata": {},
   "outputs": [],
   "source": [
    "driver.find_element_by_xpath(\"//button[@class = 'Z4IfV _0mzm- sqdOP yWX7d        ']\").click()"
   ]
  },
  {
   "cell_type": "code",
   "execution_count": 61,
   "metadata": {},
   "outputs": [],
   "source": [
    "driver.find_element_by_xpath(\"//button[@class = 'Z4IfV _0mzm- sqdOP yWX7d        ']\").click()"
   ]
  },
  {
   "cell_type": "code",
   "execution_count": 62,
   "metadata": {},
   "outputs": [],
   "source": [
    "html = driver.page_source"
   ]
  },
  {
   "cell_type": "code",
   "execution_count": 63,
   "metadata": {},
   "outputs": [],
   "source": [
    "dom = BeautifulSoup(html, 'html.parser')"
   ]
  },
  {
   "cell_type": "code",
   "execution_count": 64,
   "metadata": {},
   "outputs": [],
   "source": [
    "comment += int(dom.select('button.Z4IfV._0mzm-.sqdOP.yWX7d > span')[0].text)"
   ]
  },
  {
   "cell_type": "code",
   "execution_count": 65,
   "metadata": {},
   "outputs": [
    {
     "data": {
      "text/plain": [
       "219"
      ]
     },
     "execution_count": 65,
     "metadata": {},
     "output_type": "execute_result"
    }
   ],
   "source": [
    "comment"
   ]
  },
  {
   "cell_type": "code",
   "execution_count": 66,
   "metadata": {},
   "outputs": [],
   "source": [
    "driver.find_element_by_class_name('vcOH2').click()"
   ]
  },
  {
   "cell_type": "code",
   "execution_count": 67,
   "metadata": {},
   "outputs": [],
   "source": [
    "html = driver.page_source"
   ]
  },
  {
   "cell_type": "code",
   "execution_count": 68,
   "metadata": {},
   "outputs": [],
   "source": [
    "dom = BeautifulSoup(html, 'html.parser')"
   ]
  },
  {
   "cell_type": "code",
   "execution_count": 69,
   "metadata": {},
   "outputs": [],
   "source": [
    "good += int(dom.select('div.vJRqr > span')[0].text.replace(',', ''))"
   ]
  },
  {
   "cell_type": "code",
   "execution_count": 70,
   "metadata": {},
   "outputs": [
    {
     "data": {
      "text/plain": [
       "8690"
      ]
     },
     "execution_count": 70,
     "metadata": {},
     "output_type": "execute_result"
    }
   ],
   "source": [
    "good"
   ]
  },
  {
   "cell_type": "code",
   "execution_count": 71,
   "metadata": {},
   "outputs": [],
   "source": [
    "driver.find_element_by_class_name('QhbhU').click()"
   ]
  },
  {
   "cell_type": "code",
   "execution_count": 72,
   "metadata": {},
   "outputs": [],
   "source": [
    "driver.find_element_by_xpath(\"//a[@class = 'HBoOv coreSpriteRightPaginationArrow']\").click()"
   ]
  },
  {
   "cell_type": "code",
   "execution_count": null,
   "metadata": {},
   "outputs": [],
   "source": []
  },
  {
   "cell_type": "code",
   "execution_count": 118,
   "metadata": {},
   "outputs": [
    {
     "ename": "NoSuchElementException",
     "evalue": "Message: no such element: Unable to locate element: {\"method\":\"xpath\",\"selector\":\"//button[@class = 'Z4IfV _0mzm- sqdOP yWX7d        ']\"}\n  (Session info: chrome=71.0.3578.98)\n  (Driver info: chromedriver=2.45.615355 (d5698f682d8b2742017df6c81e0bd8e6a3063189),platform=Mac OS X 10.14.3 x86_64)\n",
     "output_type": "error",
     "traceback": [
      "\u001b[0;31m---------------------------------------------------------------------------\u001b[0m",
      "\u001b[0;31mNoSuchElementException\u001b[0m                    Traceback (most recent call last)",
      "\u001b[0;32m<ipython-input-118-d730375a7e8b>\u001b[0m in \u001b[0;36m<module>\u001b[0;34m\u001b[0m\n\u001b[1;32m     71\u001b[0m \u001b[0;32melse\u001b[0m\u001b[0;34m:\u001b[0m\u001b[0;34m\u001b[0m\u001b[0;34m\u001b[0m\u001b[0m\n\u001b[1;32m     72\u001b[0m     \u001b[0;32mif\u001b[0m \u001b[0mcomment_more\u001b[0m \u001b[0;34m==\u001b[0m \u001b[0mdom\u001b[0m\u001b[0;34m.\u001b[0m\u001b[0mselect\u001b[0m\u001b[0;34m(\u001b[0m\u001b[0;34m'button.Z4IfV._0mzm-.sqdOP.yWX7d'\u001b[0m\u001b[0;34m)\u001b[0m\u001b[0;34m:\u001b[0m\u001b[0;34m\u001b[0m\u001b[0;34m\u001b[0m\u001b[0m\n\u001b[0;32m---> 73\u001b[0;31m         \u001b[0mdriver\u001b[0m\u001b[0;34m.\u001b[0m\u001b[0mfind_element_by_xpath\u001b[0m\u001b[0;34m(\u001b[0m\u001b[0;34m\"//button[@class = 'Z4IfV _0mzm- sqdOP yWX7d        ']\"\u001b[0m\u001b[0;34m)\u001b[0m\u001b[0;34m.\u001b[0m\u001b[0mclick\u001b[0m\u001b[0;34m(\u001b[0m\u001b[0;34m)\u001b[0m\u001b[0;34m\u001b[0m\u001b[0;34m\u001b[0m\u001b[0m\n\u001b[0m\u001b[1;32m     74\u001b[0m \u001b[0;34m\u001b[0m\u001b[0m\n\u001b[1;32m     75\u001b[0m         \u001b[0mtime\u001b[0m\u001b[0;34m.\u001b[0m\u001b[0msleep\u001b[0m\u001b[0;34m(\u001b[0m\u001b[0;36m1\u001b[0m\u001b[0;34m)\u001b[0m\u001b[0;34m\u001b[0m\u001b[0;34m\u001b[0m\u001b[0m\n",
      "\u001b[0;32m/anaconda3/lib/python3.7/site-packages/selenium/webdriver/remote/webdriver.py\u001b[0m in \u001b[0;36mfind_element_by_xpath\u001b[0;34m(self, xpath)\u001b[0m\n\u001b[1;32m    392\u001b[0m             \u001b[0melement\u001b[0m \u001b[0;34m=\u001b[0m \u001b[0mdriver\u001b[0m\u001b[0;34m.\u001b[0m\u001b[0mfind_element_by_xpath\u001b[0m\u001b[0;34m(\u001b[0m\u001b[0;34m'//div/td[1]'\u001b[0m\u001b[0;34m)\u001b[0m\u001b[0;34m\u001b[0m\u001b[0;34m\u001b[0m\u001b[0m\n\u001b[1;32m    393\u001b[0m         \"\"\"\n\u001b[0;32m--> 394\u001b[0;31m         \u001b[0;32mreturn\u001b[0m \u001b[0mself\u001b[0m\u001b[0;34m.\u001b[0m\u001b[0mfind_element\u001b[0m\u001b[0;34m(\u001b[0m\u001b[0mby\u001b[0m\u001b[0;34m=\u001b[0m\u001b[0mBy\u001b[0m\u001b[0;34m.\u001b[0m\u001b[0mXPATH\u001b[0m\u001b[0;34m,\u001b[0m \u001b[0mvalue\u001b[0m\u001b[0;34m=\u001b[0m\u001b[0mxpath\u001b[0m\u001b[0;34m)\u001b[0m\u001b[0;34m\u001b[0m\u001b[0;34m\u001b[0m\u001b[0m\n\u001b[0m\u001b[1;32m    395\u001b[0m \u001b[0;34m\u001b[0m\u001b[0m\n\u001b[1;32m    396\u001b[0m     \u001b[0;32mdef\u001b[0m \u001b[0mfind_elements_by_xpath\u001b[0m\u001b[0;34m(\u001b[0m\u001b[0mself\u001b[0m\u001b[0;34m,\u001b[0m \u001b[0mxpath\u001b[0m\u001b[0;34m)\u001b[0m\u001b[0;34m:\u001b[0m\u001b[0;34m\u001b[0m\u001b[0;34m\u001b[0m\u001b[0m\n",
      "\u001b[0;32m/anaconda3/lib/python3.7/site-packages/selenium/webdriver/remote/webdriver.py\u001b[0m in \u001b[0;36mfind_element\u001b[0;34m(self, by, value)\u001b[0m\n\u001b[1;32m    976\u001b[0m         return self.execute(Command.FIND_ELEMENT, {\n\u001b[1;32m    977\u001b[0m             \u001b[0;34m'using'\u001b[0m\u001b[0;34m:\u001b[0m \u001b[0mby\u001b[0m\u001b[0;34m,\u001b[0m\u001b[0;34m\u001b[0m\u001b[0;34m\u001b[0m\u001b[0m\n\u001b[0;32m--> 978\u001b[0;31m             'value': value})['value']\n\u001b[0m\u001b[1;32m    979\u001b[0m \u001b[0;34m\u001b[0m\u001b[0m\n\u001b[1;32m    980\u001b[0m     \u001b[0;32mdef\u001b[0m \u001b[0mfind_elements\u001b[0m\u001b[0;34m(\u001b[0m\u001b[0mself\u001b[0m\u001b[0;34m,\u001b[0m \u001b[0mby\u001b[0m\u001b[0;34m=\u001b[0m\u001b[0mBy\u001b[0m\u001b[0;34m.\u001b[0m\u001b[0mID\u001b[0m\u001b[0;34m,\u001b[0m \u001b[0mvalue\u001b[0m\u001b[0;34m=\u001b[0m\u001b[0;32mNone\u001b[0m\u001b[0;34m)\u001b[0m\u001b[0;34m:\u001b[0m\u001b[0;34m\u001b[0m\u001b[0;34m\u001b[0m\u001b[0m\n",
      "\u001b[0;32m/anaconda3/lib/python3.7/site-packages/selenium/webdriver/remote/webdriver.py\u001b[0m in \u001b[0;36mexecute\u001b[0;34m(self, driver_command, params)\u001b[0m\n\u001b[1;32m    319\u001b[0m         \u001b[0mresponse\u001b[0m \u001b[0;34m=\u001b[0m \u001b[0mself\u001b[0m\u001b[0;34m.\u001b[0m\u001b[0mcommand_executor\u001b[0m\u001b[0;34m.\u001b[0m\u001b[0mexecute\u001b[0m\u001b[0;34m(\u001b[0m\u001b[0mdriver_command\u001b[0m\u001b[0;34m,\u001b[0m \u001b[0mparams\u001b[0m\u001b[0;34m)\u001b[0m\u001b[0;34m\u001b[0m\u001b[0;34m\u001b[0m\u001b[0m\n\u001b[1;32m    320\u001b[0m         \u001b[0;32mif\u001b[0m \u001b[0mresponse\u001b[0m\u001b[0;34m:\u001b[0m\u001b[0;34m\u001b[0m\u001b[0;34m\u001b[0m\u001b[0m\n\u001b[0;32m--> 321\u001b[0;31m             \u001b[0mself\u001b[0m\u001b[0;34m.\u001b[0m\u001b[0merror_handler\u001b[0m\u001b[0;34m.\u001b[0m\u001b[0mcheck_response\u001b[0m\u001b[0;34m(\u001b[0m\u001b[0mresponse\u001b[0m\u001b[0;34m)\u001b[0m\u001b[0;34m\u001b[0m\u001b[0;34m\u001b[0m\u001b[0m\n\u001b[0m\u001b[1;32m    322\u001b[0m             response['value'] = self._unwrap_value(\n\u001b[1;32m    323\u001b[0m                 response.get('value', None))\n",
      "\u001b[0;32m/anaconda3/lib/python3.7/site-packages/selenium/webdriver/remote/errorhandler.py\u001b[0m in \u001b[0;36mcheck_response\u001b[0;34m(self, response)\u001b[0m\n\u001b[1;32m    240\u001b[0m                 \u001b[0malert_text\u001b[0m \u001b[0;34m=\u001b[0m \u001b[0mvalue\u001b[0m\u001b[0;34m[\u001b[0m\u001b[0;34m'alert'\u001b[0m\u001b[0;34m]\u001b[0m\u001b[0;34m.\u001b[0m\u001b[0mget\u001b[0m\u001b[0;34m(\u001b[0m\u001b[0;34m'text'\u001b[0m\u001b[0;34m)\u001b[0m\u001b[0;34m\u001b[0m\u001b[0;34m\u001b[0m\u001b[0m\n\u001b[1;32m    241\u001b[0m             \u001b[0;32mraise\u001b[0m \u001b[0mexception_class\u001b[0m\u001b[0;34m(\u001b[0m\u001b[0mmessage\u001b[0m\u001b[0;34m,\u001b[0m \u001b[0mscreen\u001b[0m\u001b[0;34m,\u001b[0m \u001b[0mstacktrace\u001b[0m\u001b[0;34m,\u001b[0m \u001b[0malert_text\u001b[0m\u001b[0;34m)\u001b[0m\u001b[0;34m\u001b[0m\u001b[0;34m\u001b[0m\u001b[0m\n\u001b[0;32m--> 242\u001b[0;31m         \u001b[0;32mraise\u001b[0m \u001b[0mexception_class\u001b[0m\u001b[0;34m(\u001b[0m\u001b[0mmessage\u001b[0m\u001b[0;34m,\u001b[0m \u001b[0mscreen\u001b[0m\u001b[0;34m,\u001b[0m \u001b[0mstacktrace\u001b[0m\u001b[0;34m)\u001b[0m\u001b[0;34m\u001b[0m\u001b[0;34m\u001b[0m\u001b[0m\n\u001b[0m\u001b[1;32m    243\u001b[0m \u001b[0;34m\u001b[0m\u001b[0m\n\u001b[1;32m    244\u001b[0m     \u001b[0;32mdef\u001b[0m \u001b[0m_value_or_default\u001b[0m\u001b[0;34m(\u001b[0m\u001b[0mself\u001b[0m\u001b[0;34m,\u001b[0m \u001b[0mobj\u001b[0m\u001b[0;34m,\u001b[0m \u001b[0mkey\u001b[0m\u001b[0;34m,\u001b[0m \u001b[0mdefault\u001b[0m\u001b[0;34m)\u001b[0m\u001b[0;34m:\u001b[0m\u001b[0;34m\u001b[0m\u001b[0;34m\u001b[0m\u001b[0m\n",
      "\u001b[0;31mNoSuchElementException\u001b[0m: Message: no such element: Unable to locate element: {\"method\":\"xpath\",\"selector\":\"//button[@class = 'Z4IfV _0mzm- sqdOP yWX7d        ']\"}\n  (Session info: chrome=71.0.3578.98)\n  (Driver info: chromedriver=2.45.615355 (d5698f682d8b2742017df6c81e0bd8e6a3063189),platform=Mac OS X 10.14.3 x86_64)\n"
     ]
    }
   ],
   "source": [
    "if picture_post == dom.select('button._0mzm-.sqdOP.yWX7d._8A5w5') and good == 0:\n",
    "    if comment_more == dom.select('button.Z4IfV._0mzm-.sqdOP.yWX7d'):\n",
    "        driver.find_element_by_xpath(\"//button[@class = 'Z4IfV _0mzm- sqdOP yWX7d        ']\").click()\n",
    "        \n",
    "        time.sleep(1)\n",
    "        html = driver.page_source\n",
    "        dom = BeautifulSoup(html, 'html.parser')\n",
    "        \n",
    "        good = int(dom.select('button._0mzm-.sqdOP.yWX7d._8A5w5 > span')[0].text.replace(',', ''))\n",
    "        comment = int(dom.select('button.Z4IfV._0mzm-.sqdOP.yWX7d > span')[0].text.replace(',', ''))\n",
    "\n",
    "        driver.find_element_by_xpath(\"//a[@class = 'HBoOv coreSpriteRightPaginationArrow']\").click()\n",
    "    else:\n",
    "        good = int(dom.select('button._0mzm-.sqdOP.yWX7d._8A5w5 > span')[0].text.replace(',', ''))\n",
    "        comment = int(dom.select('button.Z4IfV._0mzm-.sqdOP.yWX7d > span')[0].text.replace(',', ''))\n",
    "\n",
    "        driver.find_element_by_xpath(\"//a[@class = 'HBoOv coreSpriteRightPaginationArrow']\").click()\n",
    "\n",
    "elif video_post == dom.select('span.vcOH2') and good == 0:\n",
    "    if comment_more == dom.select('button.Z4IfV._0mzm-.sqdOP.yWX7d'):\n",
    "        driver.find_element_by_xpath(\"//button[@class = 'Z4IfV _0mzm- sqdOP yWX7d        ']\").click()\n",
    "        \n",
    "        time.sleep(1)\n",
    "        html = driver.page_source\n",
    "        dom = BeautifulSoup(html, 'html.parser')\n",
    "        \n",
    "        comment = int(dom.select('button.Z4IfV._0mzm-.sqdOP.yWX7d > span')[0].text.replace(',', ''))\n",
    "\n",
    "        driver.find_element_by_class_name('vcOH2').click()\n",
    "\n",
    "        time.sleep(1)\n",
    "        html = driver.page_source\n",
    "        dom = BeautifulSoup(html, 'html.parser')\n",
    "\n",
    "        good = int(dom.select('div.vJRqr > span')[0].text.replace(',', ''))\n",
    "\n",
    "        driver.find_element_by_class_name('QhbhU').click()\n",
    "        driver.find_element_by_xpath(\"//a[@class = 'HBoOv coreSpriteRightPaginationArrow']\").click()\n",
    "    else:\n",
    "        comment = int(dom.select('button.Z4IfV._0mzm-.sqdOP.yWX7d > span')[0].text.replace(',', ''))\n",
    "\n",
    "        driver.find_element_by_class_name('vcOH2').click()\n",
    "\n",
    "        time.sleep(1)\n",
    "        html = driver.page_source\n",
    "        dom = BeautifulSoup(html, 'html.parser')\n",
    "\n",
    "        good = int(dom.select('div.vJRqr > span')[0].text.replace(',', ''))\n",
    "\n",
    "        driver.find_element_by_class_name('QhbhU').click()\n",
    "        driver.find_element_by_xpath(\"//a[@class = 'HBoOv coreSpriteRightPaginationArrow']\").click()\n",
    "\n",
    "elif picture_post == dom.select('button._0mzm-.sqdOP.yWX7d._8A5w5'):\n",
    "    if comment_more == dom.select('button.Z4IfV._0mzm-.sqdOP.yWX7d'):\n",
    "        driver.find_element_by_xpath(\"//button[@class = 'Z4IfV _0mzm- sqdOP yWX7d        ']\").click()\n",
    "        \n",
    "        time.sleep(1)\n",
    "        html = driver.page_source\n",
    "        dom = BeautifulSoup(html, 'html.parser')\n",
    "        \n",
    "        good += int(dom.select('button._0mzm-.sqdOP.yWX7d._8A5w5 > span')[0].text.replace(',', ''))\n",
    "        comment += int(dom.select('button.Z4IfV._0mzm-.sqdOP.yWX7d > span')[0].text.replace(',', ''))\n",
    "\n",
    "        driver.find_element_by_xpath(\"//a[@class = 'HBoOv coreSpriteRightPaginationArrow']\").click()\n",
    "    else:\n",
    "        good = int(dom.select('button._0mzm-.sqdOP.yWX7d._8A5w5 > span')[0].text.replace(',', ''))\n",
    "        comment = int(dom.select('button.Z4IfV._0mzm-.sqdOP.yWX7d > span')[0].text.replace(',', ''))\n",
    "\n",
    "        driver.find_element_by_xpath(\"//a[@class = 'HBoOv coreSpriteRightPaginationArrow']\").click()\n",
    "        \n",
    "else:\n",
    "    if comment_more == dom.select('button.Z4IfV._0mzm-.sqdOP.yWX7d'):\n",
    "        driver.find_element_by_xpath(\"//button[@class = 'Z4IfV _0mzm- sqdOP yWX7d        ']\").click()\n",
    "        \n",
    "        time.sleep(1)\n",
    "        html = driver.page_source\n",
    "        dom = BeautifulSoup(html, 'html.parser')\n",
    "        \n",
    "        comment += int(dom.select('button.Z4IfV._0mzm-.sqdOP.yWX7d > span')[0].text.replace(',', ''))\n",
    "\n",
    "        driver.find_element_by_class_name('vcOH2').click()\n",
    "\n",
    "        time.sleep(1)\n",
    "        html = driver.page_source\n",
    "        dom = BeautifulSoup(html, 'html.parser')\n",
    "\n",
    "        good += int(dom.select('div.vJRqr > span')[0].text.replace(',', ''))\n",
    "\n",
    "        driver.find_element_by_class_name('QhbhU').click()\n",
    "        driver.find_element_by_xpath(\"//a[@class = 'HBoOv coreSpriteRightPaginationArrow']\").click()\n",
    "    else:\n",
    "        comment += int(dom.select('button.Z4IfV._0mzm-.sqdOP.yWX7d > span')[0].text.replace(',', ''))\n",
    "\n",
    "        driver.find_element_by_class_name('vcOH2').click()\n",
    "\n",
    "        time.sleep(1)\n",
    "        html = driver.page_source\n",
    "        dom = BeautifulSoup(html, 'html.parser')\n",
    "\n",
    "        good += int(dom.select('div.vJRqr > span')[0].text.replace(',', ''))\n",
    "\n",
    "        driver.find_element_by_class_name('QhbhU').click()\n",
    "        driver.find_element_by_xpath(\"//a[@class = 'HBoOv coreSpriteRightPaginationArrow']\").click()"
   ]
  }
 ],
 "metadata": {
  "kernelspec": {
   "display_name": "Python 3",
   "language": "python",
   "name": "python3"
  },
  "language_info": {
   "codemirror_mode": {
    "name": "ipython",
    "version": 3
   },
   "file_extension": ".py",
   "mimetype": "text/x-python",
   "name": "python",
   "nbconvert_exporter": "python",
   "pygments_lexer": "ipython3",
   "version": "3.7.1"
  }
 },
 "nbformat": 4,
 "nbformat_minor": 2
}
